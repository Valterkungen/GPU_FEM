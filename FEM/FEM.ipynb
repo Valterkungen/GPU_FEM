{
 "cells": [
  {
   "cell_type": "markdown",
   "metadata": {},
   "source": [
    "# Easy model:\n",
    "\n",
    "$$\\frac{\\partial u^2}{\\partial t^2} - \\frac{\\partial u^2}{\\partial x^2} = f(t) \\text{,} \\qquad \\forall x \\in (0,  L) \\text{,} \\quad t \\in (0, T)$$\n",
    "$$u(0, t) = u(L, t) = 0 $$ \n",
    "$$u(x, 0) = u_{0}(x)$$\n",
    "$$\\frac{\\partial u}{\\partial t}(x, 0) = u_{1}(x)"
   ]
  },
  {
   "cell_type": "markdown",
   "metadata": {},
   "source": [
    "# Weak form\n",
    "let v be some test function: \n",
    "$$(v, u_{tt}) - (v, u_{xx}) = (v, f)$$\n",
    "$$(v, u_{tt}) - vu_{x}\\big |_{0}^{L} + (v_{x}, u_{x}) = (v, f)$$\n",
    "\n",
    "find $ u \\in V$ such that\n",
    "$$(v, u_{tt}) + (v_{x}, u_{x}) = (v, f) $$"
   ]
  },
  {
   "cell_type": "markdown",
   "metadata": {},
   "source": [
    "# Finite element approximation\n",
    "Find $u_{h} \\in V_{h}$ such that\n",
    "$$(v, u_{h, tt}) + (v_{x}, u_{u, x}) = (v,f)$$\n",
    "for all $ v \\in V_{h} $\n",
    "\n",
    "u and v expressed in terms of basis functions\n",
    "$$u_{h}(x, t) = \\sum_{j=1}^{N-1}\\xi_{j}(t)\\phi_{j}(x)$$\n",
    "$$v(x, t) = \\sum_{i=1}^{N-1}\\alpha_{i}(t)\\phi_{i}(x)$$ \n",
    "\n",
    "leading to\n",
    "\n",
    "$$\\sum_{j=1}^{N-1}(\\phi_{i},\\phi_{j})\\xi^{''}(t) + \\sum_{j=1}^{N-1}(\\phi_{i}^{'},\\phi_{j}^{'})\\xi(t) = (\\phi_{i}, f(t))$$ \n",
    "\n",
    "$$M\\xi^{''}(t) + A\\xi(t) = b(t)$$"
   ]
  },
  {
   "cell_type": "code",
   "execution_count": 2,
   "metadata": {},
   "outputs": [],
   "source": [
    "import numpy as np\n",
    "from scipy.sparse import dok_matrix\n",
    "from scipy.sparse.linalg import spsolve\n",
    "import matplotlib.pyplot as plt"
   ]
  },
  {
   "cell_type": "markdown",
   "metadata": {},
   "source": [
    "# Generateing Mass- & stiffnesmatrix and load vector with hat fucntions"
   ]
  },
  {
   "cell_type": "code",
   "execution_count": 3,
   "metadata": {},
   "outputs": [],
   "source": [
    "def f(t):\n",
    "    return t\n",
    " \n",
    "#Create and return Mass, Stiffnes matrices and load vector\n",
    "def matrix_conscution(x):\n",
    "    N = len(x) - 1  # Number of elements\n",
    "    A = np.zeros((N + 1, N + 1))  # Stiffness matrix\n",
    "    M = np.zeros((N + 1, N + 1))  # Mass matrix\n",
    "    B = np.zeros((N + 1, 1))  # Load vector\n",
    "    \n",
    "    # Element level stiffness and mass matrices for linear basis functions on a uniform mesh\n",
    "    stepsize = x[1] - x[0]\n",
    "    local_stiffness = np.array([[1, -1], [-1, 1]]) / stepsize\n",
    "    local_mass = np.array([[2, 1], [1, 2]]) * (stepsize / 6)\n",
    "    \n",
    "    # Assemble global matrices\n",
    "    for i in range(N):\n",
    "        A[i:i+2, i:i+2] += local_stiffness\n",
    "        M[i:i+2, i:i+2] += local_mass\n",
    "\n",
    "    M[1,1] = M[N,N] = A[1, 1] = A[N,N] = 1e6\n",
    "    return M, A\n",
    "\n",
    "def load_vector(x, function):\n",
    "    N = len(x) - 1  # Number of elements\n",
    "    B = np.zeros((N + 1, 1))  # Load vector    \n",
    "    stepsize = x[1] - x[0]\n",
    "\n",
    "    for i in range(N):\n",
    "\n",
    "        B[i] += function(x[i]) * stepsize / 2\n",
    "        B[i+1] += function(x[i+1]) * stepsize / 2\n",
    "\n",
    "    return B"
   ]
  },
  {
   "cell_type": "markdown",
   "metadata": {},
   "source": [
    "# Generateing Mass- & stiffnesmatrix and load vector with hermite polynomials"
   ]
  },
  {
   "cell_type": "code",
   "execution_count": 89,
   "metadata": {},
   "outputs": [
    {
     "name": "stdout",
     "output_type": "stream",
     "text": [
      "[[ 0.00000000e+00  0.00000000e+00  0.00000000e+00 ...  0.00000000e+00\n",
      "   0.00000000e+00  0.00000000e+00]\n",
      " [ 0.00000000e+00  7.70833333e-04 -4.16666667e-05 ...  0.00000000e+00\n",
      "   0.00000000e+00  0.00000000e+00]\n",
      " [ 0.00000000e+00 -4.16666667e-05  7.70833333e-04 ...  0.00000000e+00\n",
      "   0.00000000e+00  0.00000000e+00]\n",
      " ...\n",
      " [ 0.00000000e+00  0.00000000e+00  0.00000000e+00 ...  3.33333333e-04\n",
      "   0.00000000e+00  0.00000000e+00]\n",
      " [ 0.00000000e+00  0.00000000e+00  0.00000000e+00 ...  0.00000000e+00\n",
      "   0.00000000e+00  0.00000000e+00]\n",
      " [ 0.00000000e+00  0.00000000e+00  0.00000000e+00 ...  0.00000000e+00\n",
      "   0.00000000e+00  0.00000000e+00]]\n"
     ]
    }
   ],
   "source": [
    "#let xi be \n",
    "#xi = (x-x0)/(x1-x0)\n",
    "a = 0\n",
    "b = L = 1\n",
    "N = 1000\n",
    "h = (b-a)/N\n",
    "x = np.linspace(a, b, N)\n",
    "basis = {\"eval\": \n",
    "        {\"H1\": lambda x: 2*x**3 - 3*x**2, \n",
    "         \"H2\": lambda x: x**3 - 2*x**3 + x, \n",
    "         \"H3\": lambda x:  3*x**2 - 2*x**3, \n",
    "         \"H4\": lambda x: x**3 - x**2},\n",
    "         \"nabla\": \n",
    "         {\"H1_prime\": lambda x: 6*x**2 - 6*x, \n",
    "          \"H2_prime\": lambda x: 3*x**2 - 6*x + 1,\n",
    "          \"H3_prime\": lambda x: 6*x - 6*x**2,\n",
    "          \"H4_prime\": lambda x: 3*x**2 - 2*x\n",
    "         } \n",
    "}\n",
    "\n",
    "\n",
    "\n",
    "M = np.zeros([N+1, N+1])\n",
    "A = np.zeros([N+1, N+1])\n",
    "\n",
    "for k in range(N-1):\n",
    "        x0 = x[k]\n",
    "        x1 = x[k+1]\n",
    "        xi = (x-x0)/(x1-x0)\n",
    "        quad = [(0, 1/6), (0.5, 4/6), (1, 1/6)]\n",
    "        for base in basis.keys():   \n",
    "            for i, H_i in enumerate(basis[base].values()):\n",
    "                for j, H_j in enumerate(basis[base].values()):\n",
    "                    for iter, weight in quad:\n",
    "                        #idx_x, idx_y = k-i, k-j\n",
    "                        #if idx_x and idx_y > 0 or idx_x and idx_y < N:\n",
    "                            if base == \"eval\":\n",
    "                                M[k - i, k - j] += h * weight * H_i(iter) * H_j(iter) \n",
    "                                \n",
    "                            else:\n",
    "                                A[k + i, k - j] += h * weight * H_i(iter) * H_j(iter)  \n",
    "      \n",
    "\n",
    "                \n",
    "\n",
    "            \n",
    "            \n",
    "\n",
    "\n",
    "        \n"
   ]
  },
  {
   "cell_type": "markdown",
   "metadata": {},
   "source": [
    "# Solve for first order ODE\n",
    "$$ \\xi^{'}(t) = w(t) $$\n",
    "$$Mw^{'}(t) = b(t) - A\\xi(t)\n"
   ]
  }
 ],
 "metadata": {
  "kernelspec": {
   "display_name": "Python 3.10.10 64-bit",
   "language": "python",
   "name": "python3"
  },
  "language_info": {
   "codemirror_mode": {
    "name": "ipython",
    "version": 3
   },
   "file_extension": ".py",
   "mimetype": "text/x-python",
   "name": "python",
   "nbconvert_exporter": "python",
   "pygments_lexer": "ipython3",
   "version": "3.10.10"
  },
  "orig_nbformat": 4,
  "vscode": {
   "interpreter": {
    "hash": "aee8b7b246df8f9039afb4144a1f6fd8d2ca17a180786b69acc140d282b71a49"
   }
  }
 },
 "nbformat": 4,
 "nbformat_minor": 2
}
